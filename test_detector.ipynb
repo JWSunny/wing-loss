{
 "cells": [
  {
   "cell_type": "code",
   "execution_count": null,
   "metadata": {},
   "outputs": [],
   "source": [
    "%load_ext autoreload\n",
    "%autoreload 2"
   ]
  },
  {
   "cell_type": "code",
   "execution_count": null,
   "metadata": {},
   "outputs": [],
   "source": [
    "import numpy as np\n",
    "from PIL import Image, ImageDraw\n",
    "import os\n",
    "import cv2\n",
    "import random\n",
    "import json\n",
    "import time\n",
    "\n",
    "from landmark_detector import KeypointDetector"
   ]
  },
  {
   "cell_type": "code",
   "execution_count": null,
   "metadata": {},
   "outputs": [],
   "source": [
    "DATA_DIR = '/home/gpu2/hdd/dan/CelebA/val/'\n",
    "MODEL_PATH = 'model.pb'"
   ]
  },
  {
   "cell_type": "code",
   "execution_count": null,
   "metadata": {},
   "outputs": [],
   "source": [
    "keypoint_detector = KeypointDetector(MODEL_PATH, gpu_memory_fraction=0.25, visible_device_list='1')"
   ]
  },
  {
   "cell_type": "markdown",
   "metadata": {},
   "source": [
    "# Get images and bounding boxes"
   ]
  },
  {
   "cell_type": "code",
   "execution_count": null,
   "metadata": {},
   "outputs": [],
   "source": [
    "metadata = []\n",
    "NUM_ANNOTATIONS = 1000\n",
    "for n in os.listdir(os.path.join(DATA_DIR, 'annotations'))[:NUM_ANNOTATIONS]:\n",
    "    a = json.load(open(os.path.join(DATA_DIR, 'annotations', n)))\n",
    "    image_name = a['filename']\n",
    "    path = os.path.join(DATA_DIR, 'images', image_name)\n",
    "    box = a['box']\n",
    "    metadata.append((path, box))"
   ]
  },
  {
   "cell_type": "markdown",
   "metadata": {},
   "source": [
    "# Show detections"
   ]
  },
  {
   "cell_type": "code",
   "execution_count": null,
   "metadata": {},
   "outputs": [],
   "source": [
    "def draw_on_image(image, keypoints):\n",
    "\n",
    "    image_copy = image.copy()\n",
    "    draw = ImageDraw.Draw(image_copy, 'RGBA')\n",
    "\n",
    "    for y, x in keypoints:\n",
    "        draw.ellipse([\n",
    "            (x - 2.0, y - 2.0),\n",
    "            (x + 2.0, y + 2.0)\n",
    "        ], outline='red')\n",
    "\n",
    "    return image_copy"
   ]
  },
  {
   "cell_type": "code",
   "execution_count": null,
   "metadata": {},
   "outputs": [],
   "source": [
    "i = random.randint(0, len(metadata) - 1)\n",
    "\n",
    "# load and preprocess an image\n",
    "image_array = cv2.imread(metadata[i][0])\n",
    "image_array = cv2.cvtColor(image_array, cv2.COLOR_BGR2RGB)\n",
    "image = Image.fromarray(image_array)\n",
    "\n",
    "box = metadata[i][1]\n",
    "crop = image.crop((box['xmin'], box['ymin'], box['xmax'], box['ymax']))\n",
    "crop = crop.resize((112, 128))\n",
    "crop"
   ]
  },
  {
   "cell_type": "code",
   "execution_count": null,
   "metadata": {
    "scrolled": false
   },
   "outputs": [],
   "source": [
    "crop_array = np.array(crop)\n",
    "keypoints = keypoint_detector(crop_array)\n",
    "draw_on_image(crop, keypoints)"
   ]
  },
  {
   "cell_type": "markdown",
   "metadata": {},
   "source": [
    "# Measure speed"
   ]
  },
  {
   "cell_type": "code",
   "execution_count": null,
   "metadata": {},
   "outputs": [],
   "source": [
    "times = []\n",
    "for _ in range(110):\n",
    "    start = time.perf_counter()\n",
    "    _ = keypoint_detector(crop_array)\n",
    "    times.append(time.perf_counter() - start)\n",
    "    \n",
    "times = np.array(times)\n",
    "times = times[10:]\n",
    "print(times.mean(), times.std())"
   ]
  }
 ],
 "metadata": {
  "kernelspec": {
   "display_name": "Python 3",
   "language": "python",
   "name": "python3"
  },
  "language_info": {
   "codemirror_mode": {
    "name": "ipython",
    "version": 3
   },
   "file_extension": ".py",
   "mimetype": "text/x-python",
   "name": "python",
   "nbconvert_exporter": "python",
   "pygments_lexer": "ipython3",
   "version": "3.6.3"
  }
 },
 "nbformat": 4,
 "nbformat_minor": 1
}
